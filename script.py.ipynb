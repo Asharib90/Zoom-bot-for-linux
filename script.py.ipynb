{
 "cells": [
  {
   "cell_type": "code",
   "execution_count": 98,
   "metadata": {},
   "outputs": [],
   "source": [
    "from selenium import webdriver\n",
    "from selenium.webdriver.common.keys import Keys\n",
    "from webdriver_manager.chrome import ChromeDriverManager\n",
    "import datetime\n",
    "import time\n",
    "from pynput.keyboard import Key, Controller"
   ]
  },
  {
   "cell_type": "code",
   "execution_count": 112,
   "metadata": {},
   "outputs": [
    {
     "name": "stderr",
     "output_type": "stream",
     "text": [
      "[WDM] - Current google-chrome version is 86.0.4240\n",
      "[WDM] - Get LATEST driver version for 86.0.4240\n",
      "[WDM] - Driver [/home/asharib/.wdm/drivers/chromedriver/linux64/86.0.4240.22/chromedriver] found in cache\n"
     ]
    },
    {
     "name": "stdout",
     "output_type": "stream",
     "text": [
      " \n"
     ]
    }
   ],
   "source": [
    "class zoom_bot:\n",
    "    def join(self,meeting_link):\n",
    "        self.bot = webdriver.Chrome(ChromeDriverManager().install())\n",
    "        self.bot.get(meeting_link)\n",
    "        time.sleep(3)\n",
    "        keyboard = Controller()\n",
    "        keyboard.press(Key.tab)\n",
    "        keyboard.release(Key.tab)\n",
    "        keyboard.press(Key.enter)\n",
    "        keyboard.release(Key.enter)\n",
    "        time.sleep(10)        \n",
    "        keyboard.press(Key.tab)\n",
    "        keyboard.release(Key.tab)\n",
    "        keyboard.press(Key.tab)\n",
    "        keyboard.release(Key.tab)\n",
    "        keyboard.press(Key.enter)\n",
    "        keyboard.release(Key.enter)\n",
    "        \n",
    "\n",
    "        self.bot.quit()\n",
    "\n",
    "link = open(\"meeting_link.txt\",\"r\").read()\n",
    "\n",
    "obj = zoom_bot()\n",
    "obj.join(link)"
   ]
  },
  {
   "cell_type": "code",
   "execution_count": null,
   "metadata": {},
   "outputs": [],
   "source": []
  },
  {
   "cell_type": "code",
   "execution_count": null,
   "metadata": {},
   "outputs": [],
   "source": []
  }
 ],
 "metadata": {
  "kernelspec": {
   "display_name": "Python 3",
   "language": "python",
   "name": "python3"
  },
  "language_info": {
   "codemirror_mode": {
    "name": "ipython",
    "version": 3
   },
   "file_extension": ".py",
   "mimetype": "text/x-python",
   "name": "python",
   "nbconvert_exporter": "python",
   "pygments_lexer": "ipython3",
   "version": "3.8.3"
  }
 },
 "nbformat": 4,
 "nbformat_minor": 4
}
